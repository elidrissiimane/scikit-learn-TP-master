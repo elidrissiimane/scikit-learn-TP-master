{
 "cells": [
  {
   "cell_type": "markdown",
   "metadata": {
    "deletable": true,
    "editable": true
   },
   "source": [
    "<center>\n",
    "    <img src=\"resource/logo_uvsq.jpg\" width=\"40%\" />\n",
    "    <br />\n",
    "    <h1>Machine Learning avec Scikit-Learn</h1>\n",
    "    <br /><br />\n",
    "    <a href=\"mailto:almada.livia@gmail.com\">Lívia Almada</a>\n",
    "    <br /><br />\n",
    "    Université de Versailles Saint-Quentain en Yveline\n",
    "</center>"
   ]
  },
  {
   "cell_type": "code",
   "execution_count": null,
   "metadata": {
    "collapsed": true,
    "deletable": true,
    "editable": true
   },
   "outputs": [],
   "source": [
    "# Global settings\n",
    "import warnings\n",
    "warnings.simplefilter(action=\"ignore\", category=FutureWarning)\n",
    "warnings.simplefilter(action=\"ignore\", category=UserWarning)\n",
    "warnings.simplefilter(action=\"ignore\", category=RuntimeWarning)"
   ]
  },
  {
   "cell_type": "markdown",
   "metadata": {
    "deletable": true,
    "editable": true
   },
   "source": [
    "## L'apriori\n",
    "Dans ce TP, on va utiliser un package extérieur pour utiliser l'algorithm apriori qui va nous aider à apprendre des règles d'associations.\n",
    "\n",
    "Le package qu'on va utiliser est apyori.\n",
    "\n",
    "## The apriori\n",
    "In this lab, we will use an external package to use the apriori algorithm that will help us learn association rules.\n",
    "\n",
    "The package we will use is apyori."
   ]
  },
  {
   "cell_type": "code",
   "execution_count": null,
   "metadata": {
    "collapsed": false,
    "deletable": true,
    "editable": true
   },
   "outputs": [],
   "source": [
    "from apyori import apriori\n",
    "# Assurez-vous que le package apyori est installé\n",
    "\n",
    "d = [[1,2,3,4,6], [2,3,4,5,6],[1,2,3,5,6],[1,2,4,5,6]]\n",
    "\n",
    "# Utiliser help pour comprendre l'apriori qu'on a importé ci-dessus\n",
    "# Utilier 'd' comme des données de démonstration avec un support minimum \n",
    " #  de 0.8\n",
    "records = apriori(d, min_support=0.8)\n",
    "\n",
    "# Transformer les résultats vers une liste et affichez cette liste\n",
    "records = list(records)\n",
    "print(records)\n",
    "# Jouer avec l'apriori, changer d (ajouter, supprimer des éléments,..), \n",
    "#  changer les paramètre de l'apriori (minimum support et confidence)"
   ]
  },
  {
   "cell_type": "markdown",
   "metadata": {
    "deletable": true,
    "editable": true
   },
   "source": [
    "Maintenant, on va utiliser le fichier *groceries.csv* qui se trouve dans le dossier __dataset__.\n",
    "\n",
    "Ce fichier contient 10000 transactions. Et chaque transaction contient les objets qui ont été achetés ensemble.\n",
    "\n",
    "On va faire le Basket Analysis.\n",
    "\n",
    "Now, we will use the file * groceries.csv * which is in the folder __dataset__.\n",
    "\n",
    "This file contains 10000 transactions. And each transaction contains the objects that were purchased together.\n",
    "\n",
    "We will do the Basket Analysis."
   ]
  },
  {
   "cell_type": "code",
   "execution_count": null,
   "metadata": {
    "collapsed": false,
    "deletable": true,
    "editable": true
   },
   "outputs": [],
   "source": [
    "# Charger les données du fichier groceries.csv. \n",
    "#  Mettez les dans le format convenable.\n",
    "import csv\n",
    "file = open(\"dataset/groceries.csv\")\n",
    "records = csv.reader(file)\n",
    "records = list(records)\n",
    "print(records[:10])\n",
    "\n"
   ]
  },
  {
   "cell_type": "code",
   "execution_count": null,
   "metadata": {
    "collapsed": false,
    "deletable": true,
    "editable": true
   },
   "outputs": [],
   "source": [
    "# Utiliser l'apriori pour apprendre les règles d'association avec \n",
    "#  un support minimum de 0.001 et une confidence de 0.8\n",
    "records_apr = apriori(records, min_support=0.001, min_confidence=0.8)"
   ]
  },
  {
   "cell_type": "code",
   "execution_count": null,
   "metadata": {
    "collapsed": false,
    "deletable": true,
    "editable": true
   },
   "outputs": [],
   "source": [
    "# Afficher les 5 premières règles\n",
    "records_apr = list(records_apr)\n",
    "print(records_apr[:1])"
   ]
  },
  {
   "cell_type": "code",
   "execution_count": null,
   "metadata": {
    "collapsed": false,
    "deletable": true,
    "editable": true
   },
   "outputs": [],
   "source": [
    "# Ecrire une fonction print_rules qui affiche les règles\n",
    "#  dans un format plus lisible\n",
    "def print_rules(records):\n",
    "    for record in records:\n",
    "        rules = record.ordered_statistics\n",
    "        for rule in rules:\n",
    "            antecedent = list(rule.items_base)\n",
    "            consequent = list(rule.items_add)\n",
    "            print(\"%s => %s. with confidence of %f\" %\n",
    "                  (antecedent, consequent, rule.confidence))\n",
    "            \n",
    "# Utiliser la fonction print_rules pour afficher les\n",
    "#  5 premières règles\n",
    "print_rules(records_apr[:5])\n",
    "print(\"-\"*60)\n",
    "\n",
    "# Trier les règles et afficher les 5 premières avec\n",
    "#  les 'confidence' les plus élévés\n",
    "records_apr.sort(key=lambda x: x.ordered_statistics[0].confidence, \n",
    "                reverse=True)\n",
    "print_rules(records_apr[:5])\n"
   ]
  }
 ],
 "metadata": {
  "kernelspec": {
   "display_name": "Python 3",
   "language": "python",
   "name": "python3"
  },
  "language_info": {
   "codemirror_mode": {
    "name": "ipython",
    "version": 3
   },
   "file_extension": ".py",
   "mimetype": "text/x-python",
   "name": "python",
   "nbconvert_exporter": "python",
   "pygments_lexer": "ipython3",
   "version": "3.6.3"
  }
 },
 "nbformat": 4,
 "nbformat_minor": 1
}
