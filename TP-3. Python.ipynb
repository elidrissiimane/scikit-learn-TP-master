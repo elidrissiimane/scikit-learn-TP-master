{
 "cells": [
  {
   "cell_type": "markdown",
   "metadata": {
    "deletable": true,
    "editable": true
   },
   "source": [
    "<center>\n",
    "    <img src=\"resource/logo_uvsq.jpg\" width=\"40%\" />\n",
    "    <br />\n",
    "    <h1>Machine Learning avec Scikit-Learn</h1>\n",
    "    <br /><br />\n",
    "    <a href=\"mailto:almada.livia@gmail.com\">Lívia Almada</a>\n",
    "    <br /><br />\n",
    "    Université de Versailles Saint-Quentain en Yveline\n",
    "</center>"
   ]
  },
  {
   "cell_type": "code",
   "execution_count": 1,
   "metadata": {
    "collapsed": true,
    "deletable": true,
    "editable": true
   },
   "outputs": [],
   "source": [
    "# Global settings\n",
    "import warnings\n",
    "warnings.simplefilter(action=\"ignore\", category=FutureWarning)\n",
    "warnings.simplefilter(action=\"ignore\", category=UserWarning)\n",
    "warnings.simplefilter(action=\"ignore\", category=RuntimeWarning)"
   ]
  },
  {
   "cell_type": "markdown",
   "metadata": {
    "deletable": true,
    "editable": true
   },
   "source": [
    "<font color='red'> Note: Utiliser la fonction <i> input() </i> pour obtenir des données de l'utilisateur</font>\n",
    "\n",
    "# Type de données Dans Python\n",
    "Nombre entiers et reéls, boolean, String, List, Set, Tuple, Dict\n",
    "\n",
    "\n",
    "## String\n",
    "\n",
    "### Exercice 1 (15 min)\n",
    "Ecrire un program python:\n",
    "* Dans une boucle:\n",
    "    * Demander l'utilisateur d'entrer un string **s**\n",
    "    * calculer sa longueur \n",
    "        * exemple: in:uvsq, out:4\n",
    "    * Juste si la longueur est plus grand que 6, quitter la boucle \n",
    "* Afficher les 2 premiers caractères (car) de **s**, puis afficher les 2 derniers\n",
    "* Afficher un string composé des 2 premiers et des 2 derniers car de **s**\n",
    "    * exemple: in:Data Scale, out:Dale\n",
    "* Afficher un string où toutes les occurrences du premier car de **s** ont été changées en @, sauf le premier car lui-même\n",
    "    * ex: in:Google, out:Goo@le\n",
    "* Dans un boucle:\n",
    "    * Demander l'utilisatuer d'entrer un nombre **i**\n",
    "    * Juste si **i** est entre 0 (inclus) et la longueur de **s** (exclu), quitter la boucle\n",
    "* Afficher un string où le **i**<sup>em</sup> car de **s** est supprimé\n",
    "    * ex: in: s=school i=2, out:scool\n",
    "* Afficher le string **s** en arrière, en majuscule puis miniscule\n",
    "    * ex: in: Google, out: ELGOOG, elgoog\n",
    "* Créer et afficher un string **s1** en insérant une vergule entre les car de **s**\n",
    "    * ex: in: google, out: g,o,o,g,l,e\n",
    "* Diviser **s1** basant sur la virgule pour obtenir une liste **l**\n",
    "* Utiliser **l** afin de créer un string qui est égale à **s**  \n"
   ]
  },
  {
   "cell_type": "code",
   "execution_count": null,
   "metadata": {
    "collapsed": false,
    "deletable": true,
    "editable": true
   },
   "outputs": [],
   "source": []
  },
  {
   "cell_type": "markdown",
   "metadata": {
    "deletable": true,
    "editable": true
   },
   "source": [
    "## Liste \n",
    "\n",
    "Pour créer une liste l vide:\n",
    "> l = [ ]\n",
    "\n",
    "Il y a plusieurs méthodes pour ajouter à une liste l, par exemple:\n",
    "> l.append(2)\n",
    "\n",
    "### Exercie 2 (15 min)\n",
    "Ecrire un program python:\n",
    "* Dans une boucle:\n",
    "    * Récupérer 10 nombres de l'utilisateur\n",
    "    * Charger ces nombres dans une liste python **l**\n",
    "* Calculer la somme de tous les nombres dans **l**, puis calculer la multiplication\n",
    "    * ex: in:[1,2,3] out: 1+2+3=6, 1*2*3=6\n",
    "* Récupérer le plus grand et le plus petit nombre de **l**\n",
    "* Afficher la liste **l** si on supprime ses nombres pairs\n",
    "    * ex: in:[1,2,3,4] out:[1,3]\n",
    "* Afficher les 5 premiers nombres de **l**, puis afficher les 5 derniers\n",
    "* Créer une liste **l4** qui contient 4 fois les nombres de **l**\n",
    "    * ex: in:[1,2] out:[1,2,1,2,1,2,1,2]\n",
    "* Afficher les nombre qui ont des indices pairs dans **l4**, alors leurs positions sont 0,2,4...\n",
    "    * ex: in:[1,2,3,4,5] out:[1,3,5]\n",
    "* Afficher **l** en arrière\n",
    "* Transformer la liste **l** en un string\n",
    "    * ex: in:[1,2,3] out:123\n",
    "* Trouver le 2<sup>em</sup> plus petit nombre de **l**\n",
    "    * ex: in:[1,2,3] out:2\n",
    "* Créer une liste avec les nombres uniques de **l**\n",
    "    * ex: in:[1,2,1,3,3] out:[1,2,3]\n",
    "* Dans une boucle:\n",
    "    * Récupérer 10 nombres de l'utilisateur\n",
    "    * Charger ces nombres dans une liste python **l1**\n",
    "* Ajouter les 10 nombres de **l** avec les 10 nombres de **l1** pour créer une nouvelle liste\n",
    "    * ex: in: l=[1,2] l1=[2,3] out:[3,5]\n"
   ]
  },
  {
   "cell_type": "code",
   "execution_count": null,
   "metadata": {
    "collapsed": true,
    "deletable": true,
    "editable": true
   },
   "outputs": [],
   "source": []
  },
  {
   "cell_type": "markdown",
   "metadata": {
    "deletable": true,
    "editable": true
   },
   "source": [
    "## Dict\n",
    "\n",
    "Pour créer un dict d vide:\n",
    "> d = { }\n",
    "\n",
    "Normalement, les éléments dans un dict sont sous le format suivant, ***clé:valeur***\n",
    "\n",
    "Il y a plusieurs méthodes pour ajouter à un dict, par exemple:\n",
    "> d.update({key:value})\n",
    "\n",
    "### Exercice 3 (15 min)\n",
    "* Créer un dict **d** vide\n",
    "* Dans une boucle:\n",
    "    * Demander à l'utilisateur de fournir 10 strings de format: **s1:s2**\n",
    "        * ex: in: 1:cours\n",
    "    * Diviser le string en utilisant le **:** comme délimiteur\n",
    "    * Ajouter les parties divisée au dict **d** comme clé:valeur\n",
    "* Demander à l'utilisateur de fournir un string puis vérifier si ce string est une clé dans **d**\n",
    "* Si le string existe comme une clé, supprimer cette clé\n",
    "* Initialisez deux listes keys=['red', 'green', 'blue'] et values=['#FF0000','#008000', '#0000FF'] et créer un dict **d1** de ces deux listes\n",
    "* Créer un 3<sup>em</sup> dict **d2** qui combine **d** et **d1**\n",
    "* Demander à l'utilisateur d'entrer un string **s**\n",
    "* Calculer les frequences des car dans **s**, sauvgarder le résultat dans un dict **ds**\n",
    "    * ex: in: google out: {g:2, o:2, l:1, e:1}\n",
    "* Puis afficher la lettre la plus fréquente dans **s**\n",
    "* Sommer les valeurs dans **ds** pour obtenir la longueur de **s**"
   ]
  },
  {
   "cell_type": "code",
   "execution_count": null,
   "metadata": {
    "collapsed": true,
    "deletable": true,
    "editable": true
   },
   "outputs": [],
   "source": []
  },
  {
   "cell_type": "markdown",
   "metadata": {
    "deletable": true,
    "editable": true
   },
   "source": [
    "## Conditions et Boucles\n",
    "\n",
    "Les condition dans python: **if**, **elif** et **else**\n",
    "Pour les boucles: **for** et **while**\n",
    "\n",
    "### Exercice 4 (15 min)\n",
    "* Ecrire un programme Python pour convertir les températures de et vers Celsius (C), Fahrenheit (F)\n",
    "    * La formule: C/5 = F - 32/9\n",
    "    * ex: 60°C est 140 Fahrenheit. 45°F est 7 Celsius...\n",
    "* Ecrire un programme python qui peut afficher exactement ça:\n",
    "<pre>\n",
    "@ \n",
    "@ @ \n",
    "@ @ @ \n",
    "@ @ @ @ \n",
    "@ @ @ @ @ \n",
    "@ @ @ @ \n",
    "@ @ @ \n",
    "@ @ \n",
    "@\n",
    "</pre>\n",
    "\n",
    "* Ecrire un programme python qui affiche le type de chaque élément dans cette liste [1452, 11.23, 1+2j, True, 'uvsq', (0, -1), [5, 12], {\"class\":'V', \"section\":'A'}]\n",
    "* Ecrire un programme python qui afficher tous le nombre de 0 à 30, sauf les multiplicateurs de 4. (Utiliser ***continue*** dans la boucle)\n",
    "* Ecrire un programme Python qui accepte un string et calcule le nombre de chiffres et de lettres\n",
    "    * ex: in: Python 3.5 out: lettres=6 et chiffres=2\n",
    "* Ecrire un programme Python pour vérifier la validité du mot de passe saisi par l'utilisateur. Les conditions: \n",
    "    * Au moins 1 lettre entre [a-z] et 1 lettre entre [A-Z]\n",
    "    * Au moins 1 nombre entre [1-9]\n",
    "    * Au moin un car de cette liste [@,#,%,&]\n",
    "    * Au moin 6 car\n",
    "    * Au plus 16 car\n",
    "* Ecrire un programme Python qui saisi un nombre entre 1 et 9 (inclus) de l'utilisateur et affiche un pattern comme ça:\n",
    "    * si le nombre est 4, le pattern sera: \n",
    "<pre>\n",
    "1\n",
    "22\n",
    "333\n",
    "4444\n",
    "</pre>\n",
    "    * Si le nombre est 9, le pattern sera:\n",
    "<pre>\n",
    "1\n",
    "22\n",
    "333\n",
    "4444\n",
    "55555\n",
    "666666\n",
    "7777777\n",
    "88888888\n",
    "999999999\n",
    "</pre>"
   ]
  },
  {
   "cell_type": "markdown",
   "metadata": {
    "deletable": true,
    "editable": true
   },
   "source": [
    "\n",
    "\n",
    "## Fonctions\n",
    "\n",
    "Definir des fonctions en python avec le mot clé **def**.\n",
    "Les paramètres d'une fonction peuvent prendre de valeurs par défaut, et donc lors de l'appel de cette fonction, on est pas obligé de specifier ces paramètres.\n",
    "Par exemple, soit la fonction:\n",
    "> def somme(x, y=2):\n",
    "> \n",
    "    return x+y\n",
    "\n",
    "Si on appele somme(4, 5) le résutat sera 9. si on appele somme(4), le résultat sera 6.\n",
    "\n",
    "Les fonctions dans python peuvent retourner plus qu'un résultat.\n",
    "Par exemple:\n",
    "> def retourne_double(x,y):\n",
    ">\n",
    "    return x*2, y*2\n",
    "    \n",
    "Pour l'utiliser on peut ecrire: a, b = retourne_double(2,3), puis **a** sera égale à 4 et **b** sera égale à 6 \n",
    "\n",
    "### Exercie 5 (20 min)\n",
    "* Ecrire une fonction Python pour trouver le maximum de trois nombres\n",
    "* Ecrire une fonction Python pour calculer la factorielle d'un nombre positive\n",
    "* Écrire une fonction Python qui accepte un string et calcule le nombre de lettres majuscules et minuscules.\n",
    "* Ecrire une fonction Python qui prend un nombre comme un paramètre et vérifie si le nombre est premier ou non\n",
    "* Ecrire une fonction Python qui vérifie si un string passé est palindrome ou non.\n",
    "    * Un palindrome est un mot qui lit le même en arrière comme madam\n",
    "* Ecrire une fonction Python qui vérifie si un string contient chaque lettre de l'alphabet de a à z au moins une fois\n",
    "    * ex: in:The quick brown fox jumps over the lazy dog. out:True"
   ]
  },
  {
   "cell_type": "code",
   "execution_count": null,
   "metadata": {
    "collapsed": true,
    "deletable": true,
    "editable": true
   },
   "outputs": [],
   "source": []
  }
 ],
 "metadata": {
  "kernelspec": {
   "display_name": "Python 3",
   "language": "python",
   "name": "python3"
  },
  "language_info": {
   "codemirror_mode": {
    "name": "ipython",
    "version": 3
   },
   "file_extension": ".py",
   "mimetype": "text/x-python",
   "name": "python",
   "nbconvert_exporter": "python",
   "pygments_lexer": "ipython3",
   "version": "3.6.3"
  }
 },
 "nbformat": 4,
 "nbformat_minor": 1
}
