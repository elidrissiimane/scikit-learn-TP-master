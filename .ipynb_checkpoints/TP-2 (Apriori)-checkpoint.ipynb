{
 "cells": [
  {
   "cell_type": "markdown",
   "metadata": {},
   "source": [
    "<center>\n",
    "    <img src=\"resource/logo_uvsq.jpg\" width=\"40%\" />\n",
    "    <br />\n",
    "    <h1>Machine Learning avec Scikit-Learn</h1>\n",
    "    <br /><br />\n",
    "    <a href=\"mailto:raef.mousheimish@uvsq.fr\">Raef Mousheimish</a>\n",
    "    <br /><br />\n",
    "    Université de Versailles Saint-Quentain en Yveline\n",
    "</center>"
   ]
  },
  {
   "cell_type": "code",
   "execution_count": 1,
   "metadata": {
    "collapsed": true
   },
   "outputs": [],
   "source": [
    "# Global settings\n",
    "import warnings\n",
    "warnings.simplefilter(action=\"ignore\", category=FutureWarning)\n",
    "warnings.simplefilter(action=\"ignore\", category=UserWarning)\n",
    "warnings.simplefilter(action=\"ignore\", category=RuntimeWarning)"
   ]
  },
  {
   "cell_type": "markdown",
   "metadata": {},
   "source": [
    "## L'apriori\n",
    "Dans ce TP, on va utiliser un package extérieur pour utiliser l'algorithm apriori qui va nous aider à apprendre des règles d'associations.\n",
    "\n",
    "Le package qu'on va utiliser est apyori."
   ]
  },
  {
   "cell_type": "code",
   "execution_count": 6,
   "metadata": {
    "collapsed": false
   },
   "outputs": [
    {
     "name": "stdout",
     "output_type": "stream",
     "text": [
      "[RelationRecord(items=frozenset({2}), support=1.0, ordered_statistics=[OrderedStatistic(items_base=frozenset(), items_add=frozenset({2}), confidence=1.0, lift=1.0)]), RelationRecord(items=frozenset({6}), support=1.0, ordered_statistics=[OrderedStatistic(items_base=frozenset(), items_add=frozenset({6}), confidence=1.0, lift=1.0)]), RelationRecord(items=frozenset({2, 6}), support=1.0, ordered_statistics=[OrderedStatistic(items_base=frozenset({2}), items_add=frozenset({6}), confidence=1.0, lift=1.0), OrderedStatistic(items_base=frozenset({6}), items_add=frozenset({2}), confidence=1.0, lift=1.0)])]\n"
     ]
    }
   ],
   "source": [
    "from apyori import apriori\n",
    "# Assurez-vous que le package apyori est installé\n",
    "\n",
    "d = [[1,2,3,4,6], [2,3,4,5,6],[1,2,3,5,6],[1,2,4,5,6]]\n",
    "\n",
    "# Utiliser help pour comprendre l'apriori qu'on a importé ci-dessus\n",
    "# Utilier 'd' comme des données de démonstration avec un support minimum \n",
    " #  de 0.8\n",
    "records = apriori(d, min_support=0.8)\n",
    "\n",
    "# Transformer les résultats vers une liste et affichez cette liste\n",
    "records = list(records)\n",
    "print(records)\n",
    "# Jouer avec l'apriori, changer d (ajouter, supprimer des éléments,..), \n",
    "#  changer les paramètre de l'apriori (minimum support et confidence)"
   ]
  },
  {
   "cell_type": "markdown",
   "metadata": {},
   "source": [
    "Maintenant, on va utiliser le fichier *groceries.csv* qui se trouve dans le dossier __dataset__.\n",
    "\n",
    "Ce fichier contient 10000 transactions. Et chaque transaction contient les objets qui ont été achetés ensemble.\n",
    "\n",
    "On va faire le Basket Analysis."
   ]
  },
  {
   "cell_type": "code",
   "execution_count": 12,
   "metadata": {
    "collapsed": false
   },
   "outputs": [
    {
     "name": "stdout",
     "output_type": "stream",
     "text": [
      "[['citrus fruit', 'semi-finished bread', 'margarine', 'ready soups'], ['tropical fruit', 'yogurt', 'coffee'], ['whole milk'], ['pip fruit', 'yogurt', 'cream cheese ', 'meat spreads'], ['other vegetables', 'whole milk', 'condensed milk', 'long life bakery product'], ['whole milk', 'butter', 'yogurt', 'rice', 'abrasive cleaner'], ['rolls/buns'], ['other vegetables', 'UHT-milk', 'rolls/buns', 'bottled beer', 'liquor (appetizer)'], ['pot plants'], ['whole milk', 'cereals']]\n",
      "[RelationRecord(items=frozenset({'whole milk', 'hamburger meat', 'bottled beer'}), support=0.0017285205897305542, ordered_statistics=[OrderedStatistic(items_base=frozenset({'hamburger meat', 'bottled beer'}), items_add=frozenset({'whole milk'}), confidence=0.8095238095238095, lift=3.168192067913516)]), RelationRecord(items=frozenset({'red/blush wine', 'bottled beer', 'liquor'}), support=0.0019318759532282665, ordered_statistics=[OrderedStatistic(items_base=frozenset({'red/blush wine', 'liquor'}), items_add=frozenset({'bottled beer'}), confidence=0.9047619047619048, lift=11.23526936026936)]), RelationRecord(items=frozenset({'soups', 'whole milk', 'bottled beer'}), support=0.0011184544992374173, ordered_statistics=[OrderedStatistic(items_base=frozenset({'soups', 'bottled beer'}), items_add=frozenset({'whole milk'}), confidence=0.9166666666666665, lift=3.587511606313834)]), RelationRecord(items=frozenset({'bottled water', 'rice', 'whole milk'}), support=0.0012201321809862736, ordered_statistics=[OrderedStatistic(items_base=frozenset({'bottled water', 'rice'}), items_add=frozenset({'whole milk'}), confidence=0.9230769230769231, lift=3.612599100064281)]), RelationRecord(items=frozenset({'whole milk', 'butter', 'jam'}), support=0.0010167768174885613, ordered_statistics=[OrderedStatistic(items_base=frozenset({'butter', 'jam'}), items_add=frozenset({'whole milk'}), confidence=0.8333333333333333, lift=3.261374187558031)])]\n"
     ]
    }
   ],
   "source": [
    "# Charger les données du fichier groceries.csv. \n",
    "#  Mettez les dans le format convenable.\n",
    "import csv\n",
    "file = open(\"dataset/groceries.csv\")\n",
    "records = csv.reader(file)\n",
    "records = list(records)\n",
    "print(records[:10])\n",
    "\n",
    "# Utiliser l'apriori pour apprendre les règles d'association avec \n",
    "#  un support minimum de 0.001 et une confidence de 0.8\n",
    "records_apr = apriori(records, min_support=0.001, min_confidence=0.8)\n",
    "\n",
    "# Afficher les 5 premières règles\n",
    "records_apr = list(records_apr)\n",
    "print(records_apr[:5])"
   ]
  },
  {
   "cell_type": "code",
   "execution_count": 15,
   "metadata": {
    "collapsed": false
   },
   "outputs": [
    {
     "name": "stdout",
     "output_type": "stream",
     "text": [
      "['hygiene articles', 'canned fish'] => ['whole milk']. with confidence of 1.000000\n",
      "['sugar', 'rice'] => ['whole milk']. with confidence of 1.000000\n",
      "['brown bread', 'whipped/sour cream', 'pip fruit'] => ['other vegetables']. with confidence of 1.000000\n",
      "['butter', 'domestic eggs', 'soft cheese'] => ['whole milk']. with confidence of 1.000000\n",
      "['hygiene articles', 'butter', 'pip fruit'] => ['whole milk']. with confidence of 1.000000\n",
      "------------------------------------------------------------\n",
      "['hygiene articles', 'canned fish'] => ['whole milk']. with confidence of 1.000000\n",
      "['sugar', 'rice'] => ['whole milk']. with confidence of 1.000000\n",
      "['brown bread', 'whipped/sour cream', 'pip fruit'] => ['other vegetables']. with confidence of 1.000000\n",
      "['butter', 'domestic eggs', 'soft cheese'] => ['whole milk']. with confidence of 1.000000\n",
      "['hygiene articles', 'butter', 'pip fruit'] => ['whole milk']. with confidence of 1.000000\n"
     ]
    }
   ],
   "source": [
    "# Ecrire une fonction print_rules qui affiche les règles\n",
    "#  dans un format plus lisible\n",
    "def print_rules(records):\n",
    "    for record in records:\n",
    "        rules = record.ordered_statistics\n",
    "        for rule in rules:\n",
    "            antecedent = list(rule.items_base)\n",
    "            consequent = list(rule.items_add)\n",
    "            print(\"%s => %s. with confidence of %f\" %\n",
    "                  (antecedent, consequent, rule.confidence))\n",
    "            \n",
    "# Utiliser la fonction print_rules pour afficher les\n",
    "#  5 premières règles\n",
    "print_rules(records_apr[:5])\n",
    "print(\"-\"*60)\n",
    "\n",
    "# Trier les règles et afficher les 5 premières avec\n",
    "#  les 'confidence' les plus élévés\n",
    "records_apr.sort(key=lambda x: x.ordered_statistics[0].confidence, \n",
    "                reverse=True)\n",
    "print_rules(records_apr[:5])\n"
   ]
  }
 ],
 "metadata": {
  "kernelspec": {
   "display_name": "Python 3",
   "language": "python",
   "name": "python3"
  },
  "language_info": {
   "codemirror_mode": {
    "name": "ipython",
    "version": 3
   },
   "file_extension": ".py",
   "mimetype": "text/x-python",
   "name": "python",
   "nbconvert_exporter": "python",
   "pygments_lexer": "ipython3",
   "version": "3.5.2"
  }
 },
 "nbformat": 4,
 "nbformat_minor": 1
}
